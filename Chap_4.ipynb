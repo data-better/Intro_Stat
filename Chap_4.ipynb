{
  "nbformat": 4,
  "nbformat_minor": 0,
  "metadata": {
    "colab": {
      "name": "Chap_4.ipynb",
      "provenance": [],
      "authorship_tag": "ABX9TyOw+UqF6+z41zdrmsUDMFG6",
      "include_colab_link": true
    },
    "kernelspec": {
      "name": "ir",
      "display_name": "R"
    }
  },
  "cells": [
    {
      "cell_type": "markdown",
      "metadata": {
        "id": "view-in-github",
        "colab_type": "text"
      },
      "source": [
        "<a href=\"https://colab.research.google.com/github/data-better/Intro_Stat/blob/main/Chap_4.ipynb\" target=\"_parent\"><img src=\"https://colab.research.google.com/assets/colab-badge.svg\" alt=\"Open In Colab\"/></a>"
      ]
    },
    {
      "cell_type": "markdown",
      "metadata": {
        "id": "vlpLNVAEjDcC"
      },
      "source": [
        "## 1. 모집단 1,000명 중 일부 표본으로 모집단 비율을 추정\r\n",
        "\r\n",
        "\r\n"
      ]
    },
    {
      "cell_type": "code",
      "metadata": {
        "colab": {
          "base_uri": "https://localhost:8080/",
          "height": 138
        },
        "id": "Zn0p1LlJ9VTD",
        "outputId": "6b508bbf-5cfe-457e-8713-22e734e629ae"
      },
      "source": [
        "set.seed(12345)\r\n",
        "\r\n",
        "ox=rbinom(1000,1, 0.7)\r\n",
        "id=1:1000\r\n",
        "\r\n",
        "head(ox)\r\n",
        "mean(ox[sample(id,10,replace=FALSE)])\r\n",
        "mean(ox[sample(id,20,replace=FALSE)])\r\n",
        "mean(ox[sample(id,50,replace=FALSE)])\r\n",
        "mean(ox[sample(id,75,replace=FALSE)])\r\n",
        "mean(ox[sample(id,100,replace=FALSE)])\r\n",
        "mean(ox[sample(id,200,replace=FALSE)])"
      ],
      "execution_count": 1,
      "outputs": [
        {
          "output_type": "display_data",
          "data": {
            "text/plain": [
              "[1] 0 0 0 0 1 1"
            ],
            "text/latex": "\\begin{enumerate*}\n\\item 0\n\\item 0\n\\item 0\n\\item 0\n\\item 1\n\\item 1\n\\end{enumerate*}\n",
            "text/markdown": "1. 0\n2. 0\n3. 0\n4. 0\n5. 1\n6. 1\n\n\n",
            "text/html": [
              "<style>\n",
              ".list-inline {list-style: none; margin:0; padding: 0}\n",
              ".list-inline>li {display: inline-block}\n",
              ".list-inline>li:not(:last-child)::after {content: \"\\00b7\"; padding: 0 .5ex}\n",
              "</style>\n",
              "<ol class=list-inline><li>0</li><li>0</li><li>0</li><li>0</li><li>1</li><li>1</li></ol>\n"
            ]
          },
          "metadata": {
            "tags": []
          }
        },
        {
          "output_type": "display_data",
          "data": {
            "text/plain": [
              "[1] 0.4"
            ],
            "text/latex": "0.4",
            "text/markdown": "0.4",
            "text/html": [
              "0.4"
            ]
          },
          "metadata": {
            "tags": []
          }
        },
        {
          "output_type": "display_data",
          "data": {
            "text/plain": [
              "[1] 0.6"
            ],
            "text/latex": "0.6",
            "text/markdown": "0.6",
            "text/html": [
              "0.6"
            ]
          },
          "metadata": {
            "tags": []
          }
        },
        {
          "output_type": "display_data",
          "data": {
            "text/plain": [
              "[1] 0.78"
            ],
            "text/latex": "0.78",
            "text/markdown": "0.78",
            "text/html": [
              "0.78"
            ]
          },
          "metadata": {
            "tags": []
          }
        },
        {
          "output_type": "display_data",
          "data": {
            "text/plain": [
              "[1] 0.6933333"
            ],
            "text/latex": "0.693333333333333",
            "text/markdown": "0.693333333333333",
            "text/html": [
              "0.693333333333333"
            ]
          },
          "metadata": {
            "tags": []
          }
        },
        {
          "output_type": "display_data",
          "data": {
            "text/plain": [
              "[1] 0.68"
            ],
            "text/latex": "0.68",
            "text/markdown": "0.68",
            "text/html": [
              "0.68"
            ]
          },
          "metadata": {
            "tags": []
          }
        },
        {
          "output_type": "display_data",
          "data": {
            "text/plain": [
              "[1] 0.7"
            ],
            "text/latex": "0.7",
            "text/markdown": "0.7",
            "text/html": [
              "0.7"
            ]
          },
          "metadata": {
            "tags": []
          }
        }
      ]
    },
    {
      "cell_type": "markdown",
      "metadata": {
        "id": "tZXFS3Fy9jyo"
      },
      "source": [
        "## 2. 층화 추출"
      ]
    },
    {
      "cell_type": "code",
      "metadata": {
        "colab": {
          "base_uri": "https://localhost:8080/",
          "height": 89
        },
        "id": "0g5qXbx89pAv",
        "outputId": "20e67704-68c0-4ffc-eee3-2eccfa9e3474"
      },
      "source": [
        "install.packages(\"pps\")\r\n",
        "library(pps) \r\n",
        "strat <- c(1,1,1,1,1,2,2,2,3,3,3,3,3,3,3)  # stratum 1 has 5 units, etc.\r\n",
        "nh <- c(2,1,3)                             # select 2 units from stratum 1, 1 from stratum 2 and 3 from 3\r\n",
        "stratsrs(strat,nh)"
      ],
      "execution_count": 2,
      "outputs": [
        {
          "output_type": "stream",
          "text": [
            "Installing package into ‘/usr/local/lib/R/site-library’\n",
            "(as ‘lib’ is unspecified)\n",
            "\n"
          ],
          "name": "stderr"
        },
        {
          "output_type": "display_data",
          "data": {
            "text/plain": [
              "[1]  2  1  8 11 15 13"
            ],
            "text/latex": "\\begin{enumerate*}\n\\item 2\n\\item 1\n\\item 8\n\\item 11\n\\item 15\n\\item 13\n\\end{enumerate*}\n",
            "text/markdown": "1. 2\n2. 1\n3. 8\n4. 11\n5. 15\n6. 13\n\n\n",
            "text/html": [
              "<style>\n",
              ".list-inline {list-style: none; margin:0; padding: 0}\n",
              ".list-inline>li {display: inline-block}\n",
              ".list-inline>li:not(:last-child)::after {content: \"\\00b7\"; padding: 0 .5ex}\n",
              "</style>\n",
              "<ol class=list-inline><li>2</li><li>1</li><li>8</li><li>11</li><li>15</li><li>13</li></ol>\n"
            ]
          },
          "metadata": {
            "tags": []
          }
        }
      ]
    }
  ]
}