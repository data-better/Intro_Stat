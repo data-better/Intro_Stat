{
  "nbformat": 4,
  "nbformat_minor": 0,
  "metadata": {
    "colab": {
      "name": "R_Intro.ipynb",
      "provenance": [],
      "authorship_tag": "ABX9TyNFaxyHDpJHaqY2mWe1sffd",
      "include_colab_link": true
    },
    "kernelspec": {
      "name": "ir",
      "display_name": "R"
    }
  },
  "cells": [
    {
      "cell_type": "markdown",
      "metadata": {
        "id": "view-in-github",
        "colab_type": "text"
      },
      "source": [
        "<a href=\"https://colab.research.google.com/github/data-better/Intro_Stat/blob/main/R_Intro.ipynb\" target=\"_parent\"><img src=\"https://colab.research.google.com/assets/colab-badge.svg\" alt=\"Open In Colab\"/></a>"
      ]
    },
    {
      "cell_type": "markdown",
      "metadata": {
        "id": "vlpLNVAEjDcC"
      },
      "source": [
        "## 1. R의 소개\r\n",
        "\r\n",
        "* 무료로 사용하는 데이터분석 소프트웨어 : R, Python\r\n",
        "* R의 설치 : https://r-project.org\r\n",
        "* R 개발환경 : Rstudio / Python 개발환경 : anaconda \r\n",
        "* 클라우드 기반 쥬피터 노트북 : 구글 Colab\r\n",
        "\r\n"
      ]
    },
    {
      "cell_type": "markdown",
      "metadata": {
        "id": "oti2n1xik5rw"
      },
      "source": [
        "## 2. 구글 Colab\r\n",
        "\r\n",
        "* 구글 id가 있어야 이용 가능, 구글 drive 이용\r\n",
        "* 텍스트와 코드로 구성 \r\n",
        "  - 텍스트 작성 : 마크다운\r\n",
        "  - 코드 수행 : Crtl+Enter, Shift+Enter, Alt+Enter \r\n",
        "* 크롬 브라우저에서 Python과 R을 실행 : R은 임시\r\n",
        "  - 설치 필요하지 않음\r\n",
        "  - GPU 무료 액세스\r\n",
        "* Pyhon 기반 : https://colab.research.google.com/\r\n",
        "* R : https://colab.research.google.com/notebook#create=true&language=r"
      ]
    },
    {
      "cell_type": "markdown",
      "metadata": {
        "id": "a_tE4omCl84L"
      },
      "source": [
        "## 3. R의 특징\r\n",
        "  * Colab 환경 검토 : R.Version()\r\n",
        "  * 설치된 library : library()\r\n",
        "  * 설치된 data    : data()\r\n"
      ]
    },
    {
      "cell_type": "code",
      "metadata": {
        "id": "ZVD9CLPGvm_8"
      },
      "source": [
        "R.Version()"
      ],
      "execution_count": null,
      "outputs": []
    },
    {
      "cell_type": "markdown",
      "metadata": {
        "id": "YadhL13YnEFO"
      },
      "source": [
        "## 4. R 기초"
      ]
    },
    {
      "cell_type": "code",
      "metadata": {
        "colab": {
          "base_uri": "https://localhost:8080/",
          "height": 52
        },
        "id": "jMIKXb-pz7yd",
        "outputId": "0d82d6b6-8440-4a34-8111-0af7abf0f06a"
      },
      "source": [
        "# 계산과 변수 지정\r\n",
        "\r\n",
        "1+2\r\n",
        "a = 10\r\n",
        "b <- 2\r\n",
        "a+b"
      ],
      "execution_count": null,
      "outputs": [
        {
          "output_type": "display_data",
          "data": {
            "text/plain": [
              "[1] 3"
            ],
            "text/latex": "3",
            "text/markdown": "3",
            "text/html": [
              "3"
            ]
          },
          "metadata": {
            "tags": []
          }
        },
        {
          "output_type": "display_data",
          "data": {
            "text/plain": [
              "[1] 12"
            ],
            "text/latex": "12",
            "text/markdown": "12",
            "text/html": [
              "12"
            ]
          },
          "metadata": {
            "tags": []
          }
        }
      ]
    },
    {
      "cell_type": "code",
      "metadata": {
        "colab": {
          "base_uri": "https://localhost:8080/"
        },
        "id": "LMHCfpDPoApm",
        "outputId": "cdaf17a8-4865-47f8-932b-109a4a64e30d"
      },
      "source": [
        "# 데이터 형태\r\n",
        "a1 = c(1,2,5)\r\n",
        "print(a1)\r\n",
        "b1 <- c(1,2, 'aa', TRUE)\r\n",
        "print(b1)\r\n",
        "c1 <- matrix(1:12, 4,3)\r\n",
        "print(c1)"
      ],
      "execution_count": null,
      "outputs": [
        {
          "output_type": "stream",
          "text": [
            "[1] 1 2 5\n",
            "[1] \"1\"    \"2\"    \"aa\"   \"TRUE\"\n",
            "     [,1] [,2] [,3]\n",
            "[1,]    1    5    9\n",
            "[2,]    2    6   10\n",
            "[3,]    3    7   11\n",
            "[4,]    4    8   12\n"
          ],
          "name": "stdout"
        }
      ]
    }
  ]
}